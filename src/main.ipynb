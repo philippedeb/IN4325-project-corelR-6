{
 "cells": [
  {
   "cell_type": "markdown",
   "metadata": {},
   "source": [
    "# MIRACL Dataset\n",
    "This Notebook demonstrates the setup of the MIRACL dataset for use in _PyTerrier_. The dataset is available on Huggingface and comprises two parts:\n",
    "\n",
    "1. **[miracl/miracl-corpus](https://huggingface.co/datasets/miracl/miracl-corpus)**: Contains the _corpus_ data.\n",
    "\n",
    "2. **[miracl/miracl](https://huggingface.co/datasets/miracl/miracl)**: Contains the _topics_ and _qrels_.\n"
   ]
  },
  {
   "cell_type": "code",
   "execution_count": 2,
   "metadata": {},
   "outputs": [
    {
     "name": "stdout",
     "output_type": "stream",
     "text": [
      "Requirement already satisfied: python-terrier in /Users/philippedebekker/.pyenv/versions/3.8.17/lib/python3.8/site-packages (0.10.0)\n",
      "Requirement already satisfied: numpy in /Users/philippedebekker/.pyenv/versions/3.8.17/lib/python3.8/site-packages (from python-terrier) (1.24.4)\n",
      "Requirement already satisfied: pandas in /Users/philippedebekker/.pyenv/versions/3.8.17/lib/python3.8/site-packages (from python-terrier) (2.0.2)\n",
      "Requirement already satisfied: wget in /Users/philippedebekker/.pyenv/versions/3.8.17/lib/python3.8/site-packages (from python-terrier) (3.2)\n",
      "Requirement already satisfied: tqdm in /Users/philippedebekker/.pyenv/versions/3.8.17/lib/python3.8/site-packages (from python-terrier) (4.65.0)\n",
      "Requirement already satisfied: pyjnius>=1.4.2 in /Users/philippedebekker/.pyenv/versions/3.8.17/lib/python3.8/site-packages (from python-terrier) (1.6.1)\n",
      "Requirement already satisfied: matchpy in /Users/philippedebekker/.pyenv/versions/3.8.17/lib/python3.8/site-packages (from python-terrier) (0.5.5)\n",
      "Requirement already satisfied: scikit-learn in /Users/philippedebekker/.pyenv/versions/3.8.17/lib/python3.8/site-packages (from python-terrier) (1.3.2)\n",
      "Requirement already satisfied: deprecated in /Users/philippedebekker/.pyenv/versions/3.8.17/lib/python3.8/site-packages (from python-terrier) (1.2.14)\n",
      "Requirement already satisfied: chest in /Users/philippedebekker/.pyenv/versions/3.8.17/lib/python3.8/site-packages (from python-terrier) (0.2.3)\n",
      "Requirement already satisfied: scipy in /Users/philippedebekker/.pyenv/versions/3.8.17/lib/python3.8/site-packages (from python-terrier) (1.10.1)\n",
      "Requirement already satisfied: requests in /Users/philippedebekker/.pyenv/versions/3.8.17/lib/python3.8/site-packages (from python-terrier) (2.31.0)\n",
      "Requirement already satisfied: joblib in /Users/philippedebekker/.pyenv/versions/3.8.17/lib/python3.8/site-packages (from python-terrier) (1.2.0)\n",
      "Requirement already satisfied: nptyping==1.4.4 in /Users/philippedebekker/.pyenv/versions/3.8.17/lib/python3.8/site-packages (from python-terrier) (1.4.4)\n",
      "Requirement already satisfied: more-itertools in /Users/philippedebekker/.pyenv/versions/3.8.17/lib/python3.8/site-packages (from python-terrier) (10.2.0)\n",
      "Requirement already satisfied: ir-datasets>=0.3.2 in /Users/philippedebekker/.pyenv/versions/3.8.17/lib/python3.8/site-packages (from python-terrier) (0.5.6)\n",
      "Requirement already satisfied: jinja2 in /Users/philippedebekker/.pyenv/versions/3.8.17/lib/python3.8/site-packages (from python-terrier) (3.1.2)\n",
      "Requirement already satisfied: statsmodels in /Users/philippedebekker/.pyenv/versions/3.8.17/lib/python3.8/site-packages (from python-terrier) (0.14.1)\n",
      "Requirement already satisfied: ir-measures>=0.3.1 in /Users/philippedebekker/.pyenv/versions/3.8.17/lib/python3.8/site-packages (from python-terrier) (0.3.3)\n",
      "Requirement already satisfied: dill in /Users/philippedebekker/.pyenv/versions/3.8.17/lib/python3.8/site-packages (from python-terrier) (0.3.7)\n",
      "Requirement already satisfied: pytrec-eval-terrier>=0.5.3 in /Users/philippedebekker/.pyenv/versions/3.8.17/lib/python3.8/site-packages (from python-terrier) (0.5.6)\n",
      "Requirement already satisfied: typish>=1.7.0 in /Users/philippedebekker/.pyenv/versions/3.8.17/lib/python3.8/site-packages (from nptyping==1.4.4->python-terrier) (1.9.3)\n",
      "Requirement already satisfied: beautifulsoup4>=4.4.1 in /Users/philippedebekker/.pyenv/versions/3.8.17/lib/python3.8/site-packages (from ir-datasets>=0.3.2->python-terrier) (4.12.2)\n",
      "Requirement already satisfied: inscriptis>=2.2.0 in /Users/philippedebekker/.pyenv/versions/3.8.17/lib/python3.8/site-packages (from ir-datasets>=0.3.2->python-terrier) (2.4.0.1)\n",
      "Requirement already satisfied: lxml>=4.5.2 in /Users/philippedebekker/.pyenv/versions/3.8.17/lib/python3.8/site-packages (from ir-datasets>=0.3.2->python-terrier) (5.1.0)\n",
      "Requirement already satisfied: pyyaml>=5.3.1 in /Users/philippedebekker/.pyenv/versions/3.8.17/lib/python3.8/site-packages (from ir-datasets>=0.3.2->python-terrier) (6.0)\n",
      "Requirement already satisfied: trec-car-tools>=2.5.4 in /Users/philippedebekker/.pyenv/versions/3.8.17/lib/python3.8/site-packages (from ir-datasets>=0.3.2->python-terrier) (2.6)\n",
      "Requirement already satisfied: lz4>=3.1.10 in /Users/philippedebekker/.pyenv/versions/3.8.17/lib/python3.8/site-packages (from ir-datasets>=0.3.2->python-terrier) (4.3.3)\n",
      "Requirement already satisfied: warc3-wet>=0.2.3 in /Users/philippedebekker/.pyenv/versions/3.8.17/lib/python3.8/site-packages (from ir-datasets>=0.3.2->python-terrier) (0.2.3)\n",
      "Requirement already satisfied: warc3-wet-clueweb09>=0.2.5 in /Users/philippedebekker/.pyenv/versions/3.8.17/lib/python3.8/site-packages (from ir-datasets>=0.3.2->python-terrier) (0.2.5)\n",
      "Requirement already satisfied: zlib-state>=0.1.3 in /Users/philippedebekker/.pyenv/versions/3.8.17/lib/python3.8/site-packages (from ir-datasets>=0.3.2->python-terrier) (0.1.6)\n",
      "Requirement already satisfied: ijson>=3.1.3 in /Users/philippedebekker/.pyenv/versions/3.8.17/lib/python3.8/site-packages (from ir-datasets>=0.3.2->python-terrier) (3.2.3)\n",
      "Requirement already satisfied: pyautocorpus>=0.1.1 in /Users/philippedebekker/.pyenv/versions/3.8.17/lib/python3.8/site-packages (from ir-datasets>=0.3.2->python-terrier) (0.1.12)\n",
      "Requirement already satisfied: unlzw3>=0.2.1 in /Users/philippedebekker/.pyenv/versions/3.8.17/lib/python3.8/site-packages (from ir-datasets>=0.3.2->python-terrier) (0.2.2)\n",
      "Requirement already satisfied: cwl-eval>=1.0.10 in /Users/philippedebekker/.pyenv/versions/3.8.17/lib/python3.8/site-packages (from ir-measures>=0.3.1->python-terrier) (1.0.12)\n",
      "Requirement already satisfied: charset-normalizer<4,>=2 in /Users/philippedebekker/.pyenv/versions/3.8.17/lib/python3.8/site-packages (from requests->python-terrier) (3.1.0)\n",
      "Requirement already satisfied: idna<4,>=2.5 in /Users/philippedebekker/.pyenv/versions/3.8.17/lib/python3.8/site-packages (from requests->python-terrier) (3.4)\n",
      "Requirement already satisfied: urllib3<3,>=1.21.1 in /Users/philippedebekker/.pyenv/versions/3.8.17/lib/python3.8/site-packages (from requests->python-terrier) (1.26.16)\n",
      "Requirement already satisfied: certifi>=2017.4.17 in /Users/philippedebekker/.pyenv/versions/3.8.17/lib/python3.8/site-packages (from requests->python-terrier) (2023.5.7)\n",
      "Requirement already satisfied: heapdict in /Users/philippedebekker/.pyenv/versions/3.8.17/lib/python3.8/site-packages (from chest->python-terrier) (1.0.1)\n",
      "Requirement already satisfied: wrapt<2,>=1.10 in /Users/philippedebekker/.pyenv/versions/3.8.17/lib/python3.8/site-packages (from deprecated->python-terrier) (1.13.3)\n",
      "Requirement already satisfied: MarkupSafe>=2.0 in /Users/philippedebekker/.pyenv/versions/3.8.17/lib/python3.8/site-packages (from jinja2->python-terrier) (2.1.3)\n",
      "Requirement already satisfied: multiset<3.0,>=2.0 in /Users/philippedebekker/.pyenv/versions/3.8.17/lib/python3.8/site-packages (from matchpy->python-terrier) (2.1.1)\n",
      "Requirement already satisfied: python-dateutil>=2.8.2 in /Users/philippedebekker/.pyenv/versions/3.8.17/lib/python3.8/site-packages (from pandas->python-terrier) (2.8.2)\n",
      "Requirement already satisfied: pytz>=2020.1 in /Users/philippedebekker/.pyenv/versions/3.8.17/lib/python3.8/site-packages (from pandas->python-terrier) (2023.3)\n",
      "Requirement already satisfied: tzdata>=2022.1 in /Users/philippedebekker/.pyenv/versions/3.8.17/lib/python3.8/site-packages (from pandas->python-terrier) (2023.3)\n",
      "Requirement already satisfied: threadpoolctl>=2.0.0 in /Users/philippedebekker/.pyenv/versions/3.8.17/lib/python3.8/site-packages (from scikit-learn->python-terrier) (3.2.0)\n",
      "Requirement already satisfied: patsy>=0.5.4 in /Users/philippedebekker/.pyenv/versions/3.8.17/lib/python3.8/site-packages (from statsmodels->python-terrier) (0.5.6)\n",
      "Requirement already satisfied: packaging>=21.3 in /Users/philippedebekker/.pyenv/versions/3.8.17/lib/python3.8/site-packages (from statsmodels->python-terrier) (23.2)\n",
      "Requirement already satisfied: soupsieve>1.2 in /Users/philippedebekker/.pyenv/versions/3.8.17/lib/python3.8/site-packages (from beautifulsoup4>=4.4.1->ir-datasets>=0.3.2->python-terrier) (2.4.1)\n",
      "Requirement already satisfied: six in /Users/philippedebekker/.pyenv/versions/3.8.17/lib/python3.8/site-packages (from patsy>=0.5.4->statsmodels->python-terrier) (1.16.0)\n",
      "Requirement already satisfied: cbor>=1.0.0 in /Users/philippedebekker/.pyenv/versions/3.8.17/lib/python3.8/site-packages (from trec-car-tools>=2.5.4->ir-datasets>=0.3.2->python-terrier) (1.0.0)\n",
      "Note: you may need to restart the kernel to use updated packages.\n",
      "Requirement already satisfied: datasets in /Users/philippedebekker/.pyenv/versions/3.8.17/lib/python3.8/site-packages (2.18.0)\n",
      "Requirement already satisfied: filelock in /Users/philippedebekker/.pyenv/versions/3.8.17/lib/python3.8/site-packages (from datasets) (3.12.2)\n",
      "Requirement already satisfied: numpy>=1.17 in /Users/philippedebekker/.pyenv/versions/3.8.17/lib/python3.8/site-packages (from datasets) (1.24.4)\n",
      "Requirement already satisfied: pyarrow>=12.0.0 in /Users/philippedebekker/.pyenv/versions/3.8.17/lib/python3.8/site-packages (from datasets) (13.0.0)\n",
      "Requirement already satisfied: pyarrow-hotfix in /Users/philippedebekker/.pyenv/versions/3.8.17/lib/python3.8/site-packages (from datasets) (0.6)\n",
      "Requirement already satisfied: dill<0.3.9,>=0.3.0 in /Users/philippedebekker/.pyenv/versions/3.8.17/lib/python3.8/site-packages (from datasets) (0.3.7)\n",
      "Requirement already satisfied: pandas in /Users/philippedebekker/.pyenv/versions/3.8.17/lib/python3.8/site-packages (from datasets) (2.0.2)\n",
      "Requirement already satisfied: requests>=2.19.0 in /Users/philippedebekker/.pyenv/versions/3.8.17/lib/python3.8/site-packages (from datasets) (2.31.0)\n",
      "Requirement already satisfied: tqdm>=4.62.1 in /Users/philippedebekker/.pyenv/versions/3.8.17/lib/python3.8/site-packages (from datasets) (4.65.0)\n",
      "Requirement already satisfied: xxhash in /Users/philippedebekker/.pyenv/versions/3.8.17/lib/python3.8/site-packages (from datasets) (3.4.1)\n",
      "Requirement already satisfied: multiprocess in /Users/philippedebekker/.pyenv/versions/3.8.17/lib/python3.8/site-packages (from datasets) (0.70.15)\n",
      "Requirement already satisfied: fsspec<=2024.2.0,>=2023.1.0 in /Users/philippedebekker/.pyenv/versions/3.8.17/lib/python3.8/site-packages (from fsspec[http]<=2024.2.0,>=2023.1.0->datasets) (2023.6.0)\n",
      "Requirement already satisfied: aiohttp in /Users/philippedebekker/.pyenv/versions/3.8.17/lib/python3.8/site-packages (from datasets) (3.8.4)\n",
      "Requirement already satisfied: huggingface-hub>=0.19.4 in /Users/philippedebekker/.pyenv/versions/3.8.17/lib/python3.8/site-packages (from datasets) (0.20.3)\n",
      "Requirement already satisfied: packaging in /Users/philippedebekker/.pyenv/versions/3.8.17/lib/python3.8/site-packages (from datasets) (23.2)\n",
      "Requirement already satisfied: pyyaml>=5.1 in /Users/philippedebekker/.pyenv/versions/3.8.17/lib/python3.8/site-packages (from datasets) (6.0)\n",
      "Requirement already satisfied: attrs>=17.3.0 in /Users/philippedebekker/.pyenv/versions/3.8.17/lib/python3.8/site-packages (from aiohttp->datasets) (23.1.0)\n",
      "Requirement already satisfied: charset-normalizer<4.0,>=2.0 in /Users/philippedebekker/.pyenv/versions/3.8.17/lib/python3.8/site-packages (from aiohttp->datasets) (3.1.0)\n",
      "Requirement already satisfied: multidict<7.0,>=4.5 in /Users/philippedebekker/.pyenv/versions/3.8.17/lib/python3.8/site-packages (from aiohttp->datasets) (6.0.4)\n",
      "Requirement already satisfied: async-timeout<5.0,>=4.0.0a3 in /Users/philippedebekker/.pyenv/versions/3.8.17/lib/python3.8/site-packages (from aiohttp->datasets) (4.0.2)\n",
      "Requirement already satisfied: yarl<2.0,>=1.0 in /Users/philippedebekker/.pyenv/versions/3.8.17/lib/python3.8/site-packages (from aiohttp->datasets) (1.9.2)\n",
      "Requirement already satisfied: frozenlist>=1.1.1 in /Users/philippedebekker/.pyenv/versions/3.8.17/lib/python3.8/site-packages (from aiohttp->datasets) (1.3.3)\n",
      "Requirement already satisfied: aiosignal>=1.1.2 in /Users/philippedebekker/.pyenv/versions/3.8.17/lib/python3.8/site-packages (from aiohttp->datasets) (1.3.1)\n",
      "Requirement already satisfied: typing-extensions>=3.7.4.3 in /Users/philippedebekker/.pyenv/versions/3.8.17/lib/python3.8/site-packages (from huggingface-hub>=0.19.4->datasets) (4.9.0)\n",
      "Requirement already satisfied: idna<4,>=2.5 in /Users/philippedebekker/.pyenv/versions/3.8.17/lib/python3.8/site-packages (from requests>=2.19.0->datasets) (3.4)\n",
      "Requirement already satisfied: urllib3<3,>=1.21.1 in /Users/philippedebekker/.pyenv/versions/3.8.17/lib/python3.8/site-packages (from requests>=2.19.0->datasets) (1.26.16)\n",
      "Requirement already satisfied: certifi>=2017.4.17 in /Users/philippedebekker/.pyenv/versions/3.8.17/lib/python3.8/site-packages (from requests>=2.19.0->datasets) (2023.5.7)\n",
      "Requirement already satisfied: python-dateutil>=2.8.2 in /Users/philippedebekker/.pyenv/versions/3.8.17/lib/python3.8/site-packages (from pandas->datasets) (2.8.2)\n",
      "Requirement already satisfied: pytz>=2020.1 in /Users/philippedebekker/.pyenv/versions/3.8.17/lib/python3.8/site-packages (from pandas->datasets) (2023.3)\n",
      "Requirement already satisfied: tzdata>=2022.1 in /Users/philippedebekker/.pyenv/versions/3.8.17/lib/python3.8/site-packages (from pandas->datasets) (2023.3)\n",
      "Requirement already satisfied: six>=1.5 in /Users/philippedebekker/.pyenv/versions/3.8.17/lib/python3.8/site-packages (from python-dateutil>=2.8.2->pandas->datasets) (1.16.0)\n",
      "Note: you may need to restart the kernel to use updated packages.\n",
      "Requirement already satisfied: tqdm in /Users/philippedebekker/.pyenv/versions/3.8.17/lib/python3.8/site-packages (4.65.0)\n",
      "Note: you may need to restart the kernel to use updated packages.\n",
      "Requirement already satisfied: pandas in /Users/philippedebekker/.pyenv/versions/3.8.17/lib/python3.8/site-packages (2.0.2)\n",
      "Requirement already satisfied: python-dateutil>=2.8.2 in /Users/philippedebekker/.pyenv/versions/3.8.17/lib/python3.8/site-packages (from pandas) (2.8.2)\n",
      "Requirement already satisfied: pytz>=2020.1 in /Users/philippedebekker/.pyenv/versions/3.8.17/lib/python3.8/site-packages (from pandas) (2023.3)\n",
      "Requirement already satisfied: tzdata>=2022.1 in /Users/philippedebekker/.pyenv/versions/3.8.17/lib/python3.8/site-packages (from pandas) (2023.3)\n",
      "Requirement already satisfied: numpy>=1.20.3 in /Users/philippedebekker/.pyenv/versions/3.8.17/lib/python3.8/site-packages (from pandas) (1.24.4)\n",
      "Requirement already satisfied: six>=1.5 in /Users/philippedebekker/.pyenv/versions/3.8.17/lib/python3.8/site-packages (from python-dateutil>=2.8.2->pandas) (1.16.0)\n",
      "Note: you may need to restart the kernel to use updated packages.\n",
      "Requirement already satisfied: jupyter in /Users/philippedebekker/.pyenv/versions/3.8.17/lib/python3.8/site-packages (1.0.0)\n",
      "Requirement already satisfied: ipywidgets in /Users/philippedebekker/.pyenv/versions/3.8.17/lib/python3.8/site-packages (8.1.2)\n",
      "Requirement already satisfied: notebook in /Users/philippedebekker/.pyenv/versions/3.8.17/lib/python3.8/site-packages (from jupyter) (6.5.4)\n",
      "Requirement already satisfied: qtconsole in /Users/philippedebekker/.pyenv/versions/3.8.17/lib/python3.8/site-packages (from jupyter) (5.5.1)\n",
      "Requirement already satisfied: jupyter-console in /Users/philippedebekker/.pyenv/versions/3.8.17/lib/python3.8/site-packages (from jupyter) (6.6.3)\n",
      "Requirement already satisfied: nbconvert in /Users/philippedebekker/.pyenv/versions/3.8.17/lib/python3.8/site-packages (from jupyter) (7.6.0)\n",
      "Requirement already satisfied: ipykernel in /Users/philippedebekker/.pyenv/versions/3.8.17/lib/python3.8/site-packages (from jupyter) (6.23.3)\n",
      "Requirement already satisfied: comm>=0.1.3 in /Users/philippedebekker/.pyenv/versions/3.8.17/lib/python3.8/site-packages (from ipywidgets) (0.1.3)\n",
      "Requirement already satisfied: ipython>=6.1.0 in /Users/philippedebekker/.pyenv/versions/3.8.17/lib/python3.8/site-packages (from ipywidgets) (8.12.2)\n",
      "Requirement already satisfied: traitlets>=4.3.1 in /Users/philippedebekker/.pyenv/versions/3.8.17/lib/python3.8/site-packages (from ipywidgets) (5.9.0)\n",
      "Requirement already satisfied: widgetsnbextension~=4.0.10 in /Users/philippedebekker/.pyenv/versions/3.8.17/lib/python3.8/site-packages (from ipywidgets) (4.0.10)\n",
      "Requirement already satisfied: jupyterlab-widgets~=3.0.10 in /Users/philippedebekker/.pyenv/versions/3.8.17/lib/python3.8/site-packages (from ipywidgets) (3.0.10)\n",
      "Requirement already satisfied: backcall in /Users/philippedebekker/.pyenv/versions/3.8.17/lib/python3.8/site-packages (from ipython>=6.1.0->ipywidgets) (0.2.0)\n",
      "Requirement already satisfied: decorator in /Users/philippedebekker/.pyenv/versions/3.8.17/lib/python3.8/site-packages (from ipython>=6.1.0->ipywidgets) (5.1.1)\n",
      "Requirement already satisfied: jedi>=0.16 in /Users/philippedebekker/.pyenv/versions/3.8.17/lib/python3.8/site-packages (from ipython>=6.1.0->ipywidgets) (0.18.2)\n",
      "Requirement already satisfied: matplotlib-inline in /Users/philippedebekker/.pyenv/versions/3.8.17/lib/python3.8/site-packages (from ipython>=6.1.0->ipywidgets) (0.1.6)\n",
      "Requirement already satisfied: pickleshare in /Users/philippedebekker/.pyenv/versions/3.8.17/lib/python3.8/site-packages (from ipython>=6.1.0->ipywidgets) (0.7.5)\n",
      "Requirement already satisfied: prompt-toolkit!=3.0.37,<3.1.0,>=3.0.30 in /Users/philippedebekker/.pyenv/versions/3.8.17/lib/python3.8/site-packages (from ipython>=6.1.0->ipywidgets) (3.0.38)\n",
      "Requirement already satisfied: pygments>=2.4.0 in /Users/philippedebekker/.pyenv/versions/3.8.17/lib/python3.8/site-packages (from ipython>=6.1.0->ipywidgets) (2.15.1)\n",
      "Requirement already satisfied: stack-data in /Users/philippedebekker/.pyenv/versions/3.8.17/lib/python3.8/site-packages (from ipython>=6.1.0->ipywidgets) (0.6.2)\n",
      "Requirement already satisfied: typing-extensions in /Users/philippedebekker/.pyenv/versions/3.8.17/lib/python3.8/site-packages (from ipython>=6.1.0->ipywidgets) (4.9.0)\n",
      "Requirement already satisfied: pexpect>4.3 in /Users/philippedebekker/.pyenv/versions/3.8.17/lib/python3.8/site-packages (from ipython>=6.1.0->ipywidgets) (4.8.0)\n",
      "Requirement already satisfied: appnope in /Users/philippedebekker/.pyenv/versions/3.8.17/lib/python3.8/site-packages (from ipython>=6.1.0->ipywidgets) (0.1.3)\n",
      "Requirement already satisfied: debugpy>=1.6.5 in /Users/philippedebekker/.pyenv/versions/3.8.17/lib/python3.8/site-packages (from ipykernel->jupyter) (1.6.7)\n",
      "Requirement already satisfied: jupyter-client>=6.1.12 in /Users/philippedebekker/.pyenv/versions/3.8.17/lib/python3.8/site-packages (from ipykernel->jupyter) (8.3.0)\n",
      "Requirement already satisfied: jupyter-core!=5.0.*,>=4.12 in /Users/philippedebekker/.pyenv/versions/3.8.17/lib/python3.8/site-packages (from ipykernel->jupyter) (5.3.1)\n",
      "Requirement already satisfied: nest-asyncio in /Users/philippedebekker/.pyenv/versions/3.8.17/lib/python3.8/site-packages (from ipykernel->jupyter) (1.5.6)\n",
      "Requirement already satisfied: packaging in /Users/philippedebekker/.pyenv/versions/3.8.17/lib/python3.8/site-packages (from ipykernel->jupyter) (23.2)\n",
      "Requirement already satisfied: psutil in /Users/philippedebekker/.pyenv/versions/3.8.17/lib/python3.8/site-packages (from ipykernel->jupyter) (5.9.5)\n",
      "Requirement already satisfied: pyzmq>=20 in /Users/philippedebekker/.pyenv/versions/3.8.17/lib/python3.8/site-packages (from ipykernel->jupyter) (25.1.0)\n",
      "Requirement already satisfied: tornado>=6.1 in /Users/philippedebekker/.pyenv/versions/3.8.17/lib/python3.8/site-packages (from ipykernel->jupyter) (6.3.2)\n",
      "Requirement already satisfied: beautifulsoup4 in /Users/philippedebekker/.pyenv/versions/3.8.17/lib/python3.8/site-packages (from nbconvert->jupyter) (4.12.2)\n",
      "Requirement already satisfied: bleach!=5.0.0 in /Users/philippedebekker/.pyenv/versions/3.8.17/lib/python3.8/site-packages (from nbconvert->jupyter) (6.0.0)\n",
      "Requirement already satisfied: defusedxml in /Users/philippedebekker/.pyenv/versions/3.8.17/lib/python3.8/site-packages (from nbconvert->jupyter) (0.7.1)\n",
      "Requirement already satisfied: importlib-metadata>=3.6 in /Users/philippedebekker/.pyenv/versions/3.8.17/lib/python3.8/site-packages (from nbconvert->jupyter) (6.7.0)\n",
      "Requirement already satisfied: jinja2>=3.0 in /Users/philippedebekker/.pyenv/versions/3.8.17/lib/python3.8/site-packages (from nbconvert->jupyter) (3.1.2)\n",
      "Requirement already satisfied: jupyterlab-pygments in /Users/philippedebekker/.pyenv/versions/3.8.17/lib/python3.8/site-packages (from nbconvert->jupyter) (0.2.2)\n",
      "Requirement already satisfied: markupsafe>=2.0 in /Users/philippedebekker/.pyenv/versions/3.8.17/lib/python3.8/site-packages (from nbconvert->jupyter) (2.1.3)\n",
      "Requirement already satisfied: mistune<4,>=2.0.3 in /Users/philippedebekker/.pyenv/versions/3.8.17/lib/python3.8/site-packages (from nbconvert->jupyter) (3.0.1)\n",
      "Requirement already satisfied: nbclient>=0.5.0 in /Users/philippedebekker/.pyenv/versions/3.8.17/lib/python3.8/site-packages (from nbconvert->jupyter) (0.8.0)\n",
      "Requirement already satisfied: nbformat>=5.7 in /Users/philippedebekker/.pyenv/versions/3.8.17/lib/python3.8/site-packages (from nbconvert->jupyter) (5.9.0)\n",
      "Requirement already satisfied: pandocfilters>=1.4.1 in /Users/philippedebekker/.pyenv/versions/3.8.17/lib/python3.8/site-packages (from nbconvert->jupyter) (1.5.0)\n",
      "Requirement already satisfied: tinycss2 in /Users/philippedebekker/.pyenv/versions/3.8.17/lib/python3.8/site-packages (from nbconvert->jupyter) (1.2.1)\n",
      "Requirement already satisfied: argon2-cffi in /Users/philippedebekker/.pyenv/versions/3.8.17/lib/python3.8/site-packages (from notebook->jupyter) (21.3.0)\n",
      "Requirement already satisfied: ipython-genutils in /Users/philippedebekker/.pyenv/versions/3.8.17/lib/python3.8/site-packages (from notebook->jupyter) (0.2.0)\n",
      "Requirement already satisfied: Send2Trash>=1.8.0 in /Users/philippedebekker/.pyenv/versions/3.8.17/lib/python3.8/site-packages (from notebook->jupyter) (1.8.2)\n",
      "Requirement already satisfied: terminado>=0.8.3 in /Users/philippedebekker/.pyenv/versions/3.8.17/lib/python3.8/site-packages (from notebook->jupyter) (0.17.1)\n",
      "Requirement already satisfied: prometheus-client in /Users/philippedebekker/.pyenv/versions/3.8.17/lib/python3.8/site-packages (from notebook->jupyter) (0.17.0)\n",
      "Requirement already satisfied: nbclassic>=0.4.7 in /Users/philippedebekker/.pyenv/versions/3.8.17/lib/python3.8/site-packages (from notebook->jupyter) (1.0.0)\n",
      "Requirement already satisfied: qtpy>=2.4.0 in /Users/philippedebekker/.pyenv/versions/3.8.17/lib/python3.8/site-packages (from qtconsole->jupyter) (2.4.1)\n",
      "Requirement already satisfied: six>=1.9.0 in /Users/philippedebekker/.pyenv/versions/3.8.17/lib/python3.8/site-packages (from bleach!=5.0.0->nbconvert->jupyter) (1.16.0)\n",
      "Requirement already satisfied: webencodings in /Users/philippedebekker/.pyenv/versions/3.8.17/lib/python3.8/site-packages (from bleach!=5.0.0->nbconvert->jupyter) (0.5.1)\n",
      "Requirement already satisfied: zipp>=0.5 in /Users/philippedebekker/.pyenv/versions/3.8.17/lib/python3.8/site-packages (from importlib-metadata>=3.6->nbconvert->jupyter) (3.15.0)\n",
      "Requirement already satisfied: parso<0.9.0,>=0.8.0 in /Users/philippedebekker/.pyenv/versions/3.8.17/lib/python3.8/site-packages (from jedi>=0.16->ipython>=6.1.0->ipywidgets) (0.8.3)\n",
      "Requirement already satisfied: python-dateutil>=2.8.2 in /Users/philippedebekker/.pyenv/versions/3.8.17/lib/python3.8/site-packages (from jupyter-client>=6.1.12->ipykernel->jupyter) (2.8.2)\n",
      "Requirement already satisfied: platformdirs>=2.5 in /Users/philippedebekker/.pyenv/versions/3.8.17/lib/python3.8/site-packages (from jupyter-core!=5.0.*,>=4.12->ipykernel->jupyter) (3.8.0)\n",
      "Requirement already satisfied: jupyter-server>=1.8 in /Users/philippedebekker/.pyenv/versions/3.8.17/lib/python3.8/site-packages (from nbclassic>=0.4.7->notebook->jupyter) (2.6.0)\n",
      "Requirement already satisfied: notebook-shim>=0.2.3 in /Users/philippedebekker/.pyenv/versions/3.8.17/lib/python3.8/site-packages (from nbclassic>=0.4.7->notebook->jupyter) (0.2.3)\n",
      "Requirement already satisfied: fastjsonschema in /Users/philippedebekker/.pyenv/versions/3.8.17/lib/python3.8/site-packages (from nbformat>=5.7->nbconvert->jupyter) (2.17.1)\n",
      "Requirement already satisfied: jsonschema>=2.6 in /Users/philippedebekker/.pyenv/versions/3.8.17/lib/python3.8/site-packages (from nbformat>=5.7->nbconvert->jupyter) (4.17.3)\n",
      "Requirement already satisfied: ptyprocess>=0.5 in /Users/philippedebekker/.pyenv/versions/3.8.17/lib/python3.8/site-packages (from pexpect>4.3->ipython>=6.1.0->ipywidgets) (0.7.0)\n",
      "Requirement already satisfied: wcwidth in /Users/philippedebekker/.pyenv/versions/3.8.17/lib/python3.8/site-packages (from prompt-toolkit!=3.0.37,<3.1.0,>=3.0.30->ipython>=6.1.0->ipywidgets) (0.2.6)\n",
      "Requirement already satisfied: argon2-cffi-bindings in /Users/philippedebekker/.pyenv/versions/3.8.17/lib/python3.8/site-packages (from argon2-cffi->notebook->jupyter) (21.2.0)\n",
      "Requirement already satisfied: soupsieve>1.2 in /Users/philippedebekker/.pyenv/versions/3.8.17/lib/python3.8/site-packages (from beautifulsoup4->nbconvert->jupyter) (2.4.1)\n",
      "Requirement already satisfied: executing>=1.2.0 in /Users/philippedebekker/.pyenv/versions/3.8.17/lib/python3.8/site-packages (from stack-data->ipython>=6.1.0->ipywidgets) (1.2.0)\n",
      "Requirement already satisfied: asttokens>=2.1.0 in /Users/philippedebekker/.pyenv/versions/3.8.17/lib/python3.8/site-packages (from stack-data->ipython>=6.1.0->ipywidgets) (2.2.1)\n",
      "Requirement already satisfied: pure-eval in /Users/philippedebekker/.pyenv/versions/3.8.17/lib/python3.8/site-packages (from stack-data->ipython>=6.1.0->ipywidgets) (0.2.2)\n",
      "Requirement already satisfied: attrs>=17.4.0 in /Users/philippedebekker/.pyenv/versions/3.8.17/lib/python3.8/site-packages (from jsonschema>=2.6->nbformat>=5.7->nbconvert->jupyter) (23.1.0)\n",
      "Requirement already satisfied: importlib-resources>=1.4.0 in /Users/philippedebekker/.pyenv/versions/3.8.17/lib/python3.8/site-packages (from jsonschema>=2.6->nbformat>=5.7->nbconvert->jupyter) (5.12.0)\n",
      "Requirement already satisfied: pkgutil-resolve-name>=1.3.10 in /Users/philippedebekker/.pyenv/versions/3.8.17/lib/python3.8/site-packages (from jsonschema>=2.6->nbformat>=5.7->nbconvert->jupyter) (1.3.10)\n",
      "Requirement already satisfied: pyrsistent!=0.17.0,!=0.17.1,!=0.17.2,>=0.14.0 in /Users/philippedebekker/.pyenv/versions/3.8.17/lib/python3.8/site-packages (from jsonschema>=2.6->nbformat>=5.7->nbconvert->jupyter) (0.19.3)\n",
      "Requirement already satisfied: anyio>=3.1.0 in /Users/philippedebekker/.pyenv/versions/3.8.17/lib/python3.8/site-packages (from jupyter-server>=1.8->nbclassic>=0.4.7->notebook->jupyter) (3.7.0)\n",
      "Requirement already satisfied: jupyter-events>=0.6.0 in /Users/philippedebekker/.pyenv/versions/3.8.17/lib/python3.8/site-packages (from jupyter-server>=1.8->nbclassic>=0.4.7->notebook->jupyter) (0.6.3)\n",
      "Requirement already satisfied: jupyter-server-terminals in /Users/philippedebekker/.pyenv/versions/3.8.17/lib/python3.8/site-packages (from jupyter-server>=1.8->nbclassic>=0.4.7->notebook->jupyter) (0.4.4)\n",
      "Requirement already satisfied: overrides in /Users/philippedebekker/.pyenv/versions/3.8.17/lib/python3.8/site-packages (from jupyter-server>=1.8->nbclassic>=0.4.7->notebook->jupyter) (7.3.1)\n",
      "Requirement already satisfied: websocket-client in /Users/philippedebekker/.pyenv/versions/3.8.17/lib/python3.8/site-packages (from jupyter-server>=1.8->nbclassic>=0.4.7->notebook->jupyter) (1.6.1)\n",
      "Requirement already satisfied: cffi>=1.0.1 in /Users/philippedebekker/.pyenv/versions/3.8.17/lib/python3.8/site-packages (from argon2-cffi-bindings->argon2-cffi->notebook->jupyter) (1.15.1)\n",
      "Requirement already satisfied: idna>=2.8 in /Users/philippedebekker/.pyenv/versions/3.8.17/lib/python3.8/site-packages (from anyio>=3.1.0->jupyter-server>=1.8->nbclassic>=0.4.7->notebook->jupyter) (3.4)\n",
      "Requirement already satisfied: sniffio>=1.1 in /Users/philippedebekker/.pyenv/versions/3.8.17/lib/python3.8/site-packages (from anyio>=3.1.0->jupyter-server>=1.8->nbclassic>=0.4.7->notebook->jupyter) (1.3.0)\n",
      "Requirement already satisfied: exceptiongroup in /Users/philippedebekker/.pyenv/versions/3.8.17/lib/python3.8/site-packages (from anyio>=3.1.0->jupyter-server>=1.8->nbclassic>=0.4.7->notebook->jupyter) (1.1.1)\n",
      "Requirement already satisfied: pycparser in /Users/philippedebekker/.pyenv/versions/3.8.17/lib/python3.8/site-packages (from cffi>=1.0.1->argon2-cffi-bindings->argon2-cffi->notebook->jupyter) (2.21)\n",
      "Requirement already satisfied: python-json-logger>=2.0.4 in /Users/philippedebekker/.pyenv/versions/3.8.17/lib/python3.8/site-packages (from jupyter-events>=0.6.0->jupyter-server>=1.8->nbclassic>=0.4.7->notebook->jupyter) (2.0.7)\n",
      "Requirement already satisfied: pyyaml>=5.3 in /Users/philippedebekker/.pyenv/versions/3.8.17/lib/python3.8/site-packages (from jupyter-events>=0.6.0->jupyter-server>=1.8->nbclassic>=0.4.7->notebook->jupyter) (6.0)\n",
      "Requirement already satisfied: rfc3339-validator in /Users/philippedebekker/.pyenv/versions/3.8.17/lib/python3.8/site-packages (from jupyter-events>=0.6.0->jupyter-server>=1.8->nbclassic>=0.4.7->notebook->jupyter) (0.1.4)\n",
      "Requirement already satisfied: rfc3986-validator>=0.1.1 in /Users/philippedebekker/.pyenv/versions/3.8.17/lib/python3.8/site-packages (from jupyter-events>=0.6.0->jupyter-server>=1.8->nbclassic>=0.4.7->notebook->jupyter) (0.1.1)\n",
      "Requirement already satisfied: fqdn in /Users/philippedebekker/.pyenv/versions/3.8.17/lib/python3.8/site-packages (from jsonschema[format-nongpl]>=3.2.0->jupyter-events>=0.6.0->jupyter-server>=1.8->nbclassic>=0.4.7->notebook->jupyter) (1.5.1)\n",
      "Requirement already satisfied: isoduration in /Users/philippedebekker/.pyenv/versions/3.8.17/lib/python3.8/site-packages (from jsonschema[format-nongpl]>=3.2.0->jupyter-events>=0.6.0->jupyter-server>=1.8->nbclassic>=0.4.7->notebook->jupyter) (20.11.0)\n",
      "Requirement already satisfied: jsonpointer>1.13 in /Users/philippedebekker/.pyenv/versions/3.8.17/lib/python3.8/site-packages (from jsonschema[format-nongpl]>=3.2.0->jupyter-events>=0.6.0->jupyter-server>=1.8->nbclassic>=0.4.7->notebook->jupyter) (2.4)\n",
      "Requirement already satisfied: uri-template in /Users/philippedebekker/.pyenv/versions/3.8.17/lib/python3.8/site-packages (from jsonschema[format-nongpl]>=3.2.0->jupyter-events>=0.6.0->jupyter-server>=1.8->nbclassic>=0.4.7->notebook->jupyter) (1.3.0)\n",
      "Requirement already satisfied: webcolors>=1.11 in /Users/philippedebekker/.pyenv/versions/3.8.17/lib/python3.8/site-packages (from jsonschema[format-nongpl]>=3.2.0->jupyter-events>=0.6.0->jupyter-server>=1.8->nbclassic>=0.4.7->notebook->jupyter) (1.13)\n",
      "Requirement already satisfied: arrow>=0.15.0 in /Users/philippedebekker/.pyenv/versions/3.8.17/lib/python3.8/site-packages (from isoduration->jsonschema[format-nongpl]>=3.2.0->jupyter-events>=0.6.0->jupyter-server>=1.8->nbclassic>=0.4.7->notebook->jupyter) (1.2.3)\n",
      "Note: you may need to restart the kernel to use updated packages.\n"
     ]
    }
   ],
   "source": [
    "# Dependencies\n",
    "%pip install python-terrier   # PyTerrier\n",
    "%pip install datasets         # Hugging Face\n",
    "%pip install tqdm             # tqdm progress bars\n",
    "%pip install pandas           # pandas\n",
    "\n",
    "# somehow necessary on Mac, not sure about other OS\n",
    "%pip install --upgrade jupyter ipywidgets"
   ]
  },
  {
   "cell_type": "code",
   "execution_count": 3,
   "metadata": {},
   "outputs": [],
   "source": [
    "# Libraries\n",
    "import pyterrier as pt\n",
    "import datasets\n",
    "import pandas as pd\n",
    "from tqdm import tqdm"
   ]
  },
  {
   "cell_type": "code",
   "execution_count": 4,
   "metadata": {},
   "outputs": [
    {
     "name": "stderr",
     "output_type": "stream",
     "text": [
      "PyTerrier 0.10.0 has loaded Terrier 5.8 (built by craigm on 2023-11-01 18:05) and terrier-helper 0.0.8\n",
      "\n",
      "No etc/terrier.properties, using terrier.default.properties for bootstrap configuration.\n"
     ]
    }
   ],
   "source": [
    "# Initialize PyTerrier\n",
    "if not pt.started():\n",
    "    pt.init()"
   ]
  },
  {
   "cell_type": "code",
   "execution_count": 5,
   "metadata": {},
   "outputs": [],
   "source": [
    "# Load miracl datasets\n",
    "lang='sw'   # choose language\n",
    "miracl_corpus = datasets.load_dataset('miracl/miracl-corpus', lang, trust_remote_code=True)  # splits: train\n",
    "miracl_queries = datasets.load_dataset('miracl/miracl', lang, trust_remote_code=True)        # splits: train, dev, testA, testB"
   ]
  },
  {
   "cell_type": "code",
   "execution_count": 30,
   "metadata": {},
   "outputs": [],
   "source": [
    "# def limited_miracl_corpus_iter(limit=1000):\n",
    "#     count = 0\n",
    "#     for doc in tqdm(miracl_corpus['train'], desc=\"Processing Corpus\"):\n",
    "#         if count >= limit:\n",
    "#             break\n",
    "#         yield {\n",
    "#             'docno': doc['docid'], \n",
    "#             'title': doc['title'],\n",
    "#             'text': doc['text']\n",
    "#         }\n",
    "#         count += 1\n",
    "\n",
    "# # Preparing queries and qrels for PyTerrier\n",
    "# queries = []\n",
    "# qrels = []\n",
    "# for idx, data in enumerate(tqdm(miracl_queries['dev'], desc=\"Processing Queries and Qrels\")):\n",
    "#     queries.append({'qid': data['query_id'], 'query': data['query']})\n",
    "#     for entry in data['positive_passages']:\n",
    "#         qrels.append({'qid': data['query_id'], 'docno': entry['docid'], 'label': 1})\n",
    "#     for entry in data['negative_passages']:\n",
    "#         qrels.append({'qid': data['query_id'], 'docno': entry['docid'], 'label': 0})\n"
   ]
  },
  {
   "cell_type": "code",
   "execution_count": 6,
   "metadata": {},
   "outputs": [
    {
     "name": "stderr",
     "output_type": "stream",
     "text": [
      "Processing Queries and Qrels: 100%|██████████| 482/482 [00:00<00:00, 12085.60it/s]\n"
     ]
    }
   ],
   "source": [
    "# Choose split for queries dataset\n",
    "split = 'dev'   # 'dev', 'train', 'testA', 'testB'\n",
    "\n",
    "# Corpus iterator\n",
    "def miracl_corpus_iter():\n",
    "    for doc in tqdm(miracl_corpus['train'], desc=\"Processing Corpus\"):\n",
    "        yield {\n",
    "            'docno': doc['docid'], \n",
    "            'title': doc['title'],\n",
    "            'text': doc['text']\n",
    "        }\n",
    "\n",
    "# Preparing queries and qrels for PyTerrier\n",
    "queries = []\n",
    "qrels = []\n",
    "for idx, data in enumerate(tqdm(miracl_queries[split], desc=\"Processing Queries and Qrels\")):\n",
    "    # if idx >= 10:  # Limit to first 10 queries\n",
    "    #     break\n",
    "    queries.append({'qid': data['query_id'], 'query': data['query']})\n",
    "    for entry in data['positive_passages']:\n",
    "        qrels.append({'qid': data['query_id'], 'docno': entry['docid'], 'label': 1})\n",
    "    for entry in data['negative_passages']:\n",
    "        qrels.append({'qid': data['query_id'], 'docno': entry['docid'], 'label': 0})\n",
    "\n",
    "\n",
    "queries_df = pd.DataFrame(queries)\n",
    "qrels_df = pd.DataFrame(qrels)"
   ]
  },
  {
   "cell_type": "code",
   "execution_count": 7,
   "metadata": {},
   "outputs": [
    {
     "name": "stderr",
     "output_type": "stream",
     "text": [
      "Processing Corpus:   0%|          | 101/131924 [00:00<08:02, 273.15it/s]"
     ]
    },
    {
     "name": "stdout",
     "output_type": "stream",
     "text": [
      "14:01:42.226 [ForkJoinPool-1-worker-1] WARN org.terrier.structures.indexing.Indexer - Adding an empty document to the index (30#5) - further warnings are suppressed\n"
     ]
    },
    {
     "name": "stderr",
     "output_type": "stream",
     "text": [
      "Processing Corpus: 100%|██████████| 131924/131924 [00:05<00:00, 22828.31it/s]\n"
     ]
    },
    {
     "name": "stdout",
     "output_type": "stream",
     "text": [
      "14:01:49.321 [ForkJoinPool-1-worker-1] WARN org.terrier.structures.indexing.Indexer - Indexed 129 empty documents\n"
     ]
    }
   ],
   "source": [
    "# Indexing\n",
    "indexer = pt.IterDictIndexer(\"./miracl_index\", overwrite=True, blocks=True)\n",
    "index_ref = indexer.index(miracl_corpus_iter())"
   ]
  },
  {
   "cell_type": "code",
   "execution_count": 33,
   "metadata": {},
   "outputs": [],
   "source": [
    "# BM25 Single Query Testing/Debugging\n",
    "# bm25 = pt.BatchRetrieve(index_ref, wmodel=\"BM25\")\n",
    "# test_query_df = pd.DataFrame([{'qid': 'test', 'query': \"Testx\"}])\n",
    "# test_query_df['query'] = test_query_df['query'].str.replace(\"x\", \"omato\")\n",
    "# print(test_query_df)\n",
    "# test_results = bm25.transform(test_query_df)"
   ]
  },
  {
   "cell_type": "code",
   "execution_count": 8,
   "metadata": {},
   "outputs": [],
   "source": [
    "# BM25\n",
    "bm25 = pt.BatchRetrieve(index_ref, wmodel=\"BM25\")\n",
    "\n",
    "# Preprocessing\n",
    "queries_df['query'] = queries_df['query'].str.replace('?', '')  # remove question marks\n",
    "queries_df['query'] = queries_df['query'].str.replace(\"'\", \"\")  # remove apostrophes\n",
    "queries_df['query'] = queries_df['query'].str.replace(\"/\", \"\")  # remove slash\n",
    "queries_df['query'] = queries_df['query'].str.replace(\":\", \"\")  # remove colon\n",
    "queries_df['query'] = queries_df['query'].str.replace(\"!\", \"\")  # remove exclamation mark\n",
    "# add further replace statements should you encounter any \"Lexical Error\"\n",
    "# not sure though if this is the right way to solve it\n",
    "\n",
    "# Apply BM25 to preprocessed queries\n",
    "results = bm25.transform(queries_df)"
   ]
  },
  {
   "cell_type": "code",
   "execution_count": 9,
   "metadata": {},
   "outputs": [
    {
     "name": "stdout",
     "output_type": "stream",
     "text": [
      "       name       map      ndcg\n",
      "0  BR(BM25)  0.227746  0.361821\n"
     ]
    }
   ],
   "source": [
    "# Evaluation\n",
    "eval_metrics = ['map', 'ndcg']\n",
    "eval_results = pt.Experiment(\n",
    "    [bm25],\n",
    "    queries_df,\n",
    "    qrels_df,\n",
    "    eval_metrics=eval_metrics,\n",
    "    #perquery=True\n",
    ")\n",
    "\n",
    "print(eval_results)"
   ]
  },
  {
   "cell_type": "markdown",
   "metadata": {},
   "source": [
    "# mDPR Ranking and Evaluation"
   ]
  },
  {
   "cell_type": "markdown",
   "metadata": {},
   "source": [
    "Besides BM25, we also demonstrate the use of mDPR for ranking and evaluation. mDPR is a dense retrieval model that uses a pre-trained transformer model to encode both the queries and documents into dense vectors. The dense vectors are then used to compute the similarity between the queries and documents. The similarity scores are used to rank the documents for a given query.\n"
   ]
  },
  {
   "cell_type": "code",
   "execution_count": 10,
   "metadata": {},
   "outputs": [
    {
     "name": "stderr",
     "output_type": "stream",
     "text": [
      "Some weights of the model checkpoint at google-bert/bert-base-multilingual-cased were not used when initializing BertForMaskedLM: ['bert.pooler.dense.bias', 'bert.pooler.dense.weight', 'cls.seq_relationship.bias', 'cls.seq_relationship.weight']\n",
      "- This IS expected if you are initializing BertForMaskedLM from the checkpoint of a model trained on another task or with another architecture (e.g. initializing a BertForSequenceClassification model from a BertForPreTraining model).\n",
      "- This IS NOT expected if you are initializing BertForMaskedLM from the checkpoint of a model that you expect to be exactly identical (initializing a BertForSequenceClassification model from a BertForSequenceClassification model).\n"
     ]
    }
   ],
   "source": [
    "# Load model directly\n",
    "from transformers import AutoTokenizer, AutoModelForMaskedLM\n",
    "\n",
    "tokenizer = AutoTokenizer.from_pretrained(\"google-bert/bert-base-multilingual-cased\")\n",
    "model = AutoModelForMaskedLM.from_pretrained(\"google-bert/bert-base-multilingual-cased\")"
   ]
  },
  {
   "cell_type": "code",
   "execution_count": 11,
   "metadata": {},
   "outputs": [
    {
     "name": "stdout",
     "output_type": "stream",
     "text": [
      "         qid  docid      docno  rank      score  \\\n",
      "0          6  49391    32589#0     0  23.856485   \n",
      "1          6  77756    67527#0     1  20.334371   \n",
      "2          6  13415     6117#3     2  19.917020   \n",
      "3          6   1514     1790#7     3  19.719381   \n",
      "4          6  13435    6117#23     4  19.554268   \n",
      "...      ...    ...        ...   ...        ...   \n",
      "477000  2597  57562    35542#2    95  10.708966   \n",
      "477001  2597  66749   48278#42    96  10.697793   \n",
      "477002  2597  66829  48278#122    97  10.697793   \n",
      "477003  2597  75509    65458#0    98  10.697793   \n",
      "477004  2597  83052    72315#0    99  10.697793   \n",
      "\n",
      "                                      query  \n",
      "0       Bandari kubwa nchini Kenya iko wapi  \n",
      "1       Bandari kubwa nchini Kenya iko wapi  \n",
      "2       Bandari kubwa nchini Kenya iko wapi  \n",
      "3       Bandari kubwa nchini Kenya iko wapi  \n",
      "4       Bandari kubwa nchini Kenya iko wapi  \n",
      "...                                     ...  \n",
      "477000     Paul Schulze alizaliwa mwaka upi  \n",
      "477001     Paul Schulze alizaliwa mwaka upi  \n",
      "477002     Paul Schulze alizaliwa mwaka upi  \n",
      "477003     Paul Schulze alizaliwa mwaka upi  \n",
      "477004     Paul Schulze alizaliwa mwaka upi  \n",
      "\n",
      "[48178 rows x 6 columns]\n"
     ]
    }
   ],
   "source": [
    "# For each query in queries_df, get the top 100 results from BM25 and re-rank them using the mBERT model.\n",
    "# Afterwards, calculate the evaluation metrics for the re-ranked results.\n",
    "\n",
    "\n",
    "bm25_results = bm25.transform(queries_df)\n",
    "bm25_results = bm25_results.groupby('qid').head(100)  # get top 100 results for each query\n",
    "\n",
    "print(bm25_results)\n",
    "    \n"
   ]
  },
  {
   "cell_type": "code",
   "execution_count": 85,
   "metadata": {},
   "outputs": [
    {
     "name": "stderr",
     "output_type": "stream",
     "text": [
      "Processing Corpus: 100%|██████████| 131924/131924 [00:36<00:00, 3653.87it/s]\n"
     ]
    },
    {
     "name": "stdout",
     "output_type": "stream",
     "text": [
      "Query encodings: 482\n",
      "Doc encodings: 131924\n"
     ]
    }
   ],
   "source": [
    "# For each docno, get the text from the corpus and encode it using the mBERT tokenizer.\n",
    "max_seq_length = 512\n",
    "\n",
    "# Encode documents\n",
    "docno_encodings = {}\n",
    "for doc in miracl_corpus_iter():\n",
    "    encoding = tokenizer(doc['text'], truncation=True, padding='max_length',\n",
    "                         max_length=max_seq_length, return_tensors='pt')\n",
    "    docno_encodings[doc['docno']] = encoding\n",
    "\n",
    "# Encode queries\n",
    "query_encodings = {}\n",
    "for idx, row in queries_df.iterrows():\n",
    "    encoding = tokenizer(row['query'], truncation=True, padding='max_length',\n",
    "                         max_length=max_seq_length, return_tensors='pt')\n",
    "    query_encodings[row['qid']] = encoding\n",
    "\n",
    "# Print the first 10 query encodings and the first 10 docno encodings\n",
    "print(\"Query encodings:\", len(query_encodings))\n",
    "print(\"Doc encodings:\", len(docno_encodings))"
   ]
  },
  {
   "cell_type": "code",
   "execution_count": 46,
   "metadata": {},
   "outputs": [
    {
     "name": "stdout",
     "output_type": "stream",
     "text": [
      "Query encoding lengths: defaultdict(<class 'int'>, {10: 38, 15: 50, 22: 3, 13: 65, 12: 49, 14: 61, 16: 41, 20: 6, 24: 1, 8: 12, 19: 18, 9: 14, 11: 43, 18: 22, 17: 39, 7: 10, 25: 2, 21: 5, 28: 2, 6: 1})\n",
      "Doc encoding lengths: defaultdict(<class 'int'>, {114: 266, 134: 195, 67: 925, 69: 871, 119: 295, 78: 688, 63: 1212, 102: 393, 55: 1547, 65: 1183, 48: 1288, 26: 1832, 41: 1217, 47: 1242, 46: 1391, 23: 1172, 147: 142, 38: 1314, 75: 773, 117: 272, 161: 120, 142: 171, 89: 527, 37: 1446, 40: 1327, 113: 306, 33: 1691, 51: 1288, 17: 1886, 64: 1161, 86: 536, 68: 903, 58: 1309, 60: 1185, 73: 802, 187: 68, 84: 573, 49: 1332, 12: 1199, 103: 360, 72: 787, 25: 1507, 150: 139, 66: 1060, 61: 1208, 182: 107, 30: 1651, 298: 25, 56: 1599, 91: 521, 14: 817, 115: 276, 16: 1236, 122: 244, 45: 1337, 43: 1254, 35: 1534, 85: 547, 100: 356, 22: 1515, 70: 936, 15: 1083, 74: 753, 123: 236, 54: 1578, 11: 887, 20: 3268, 21: 1729, 39: 1298, 80: 731, 121: 270, 88: 517, 32: 1595, 99: 411, 160: 120, 139: 188, 253: 35, 62: 1257, 320: 20, 128: 209, 180: 97, 824: 1, 347: 9, 420: 7, 392: 9, 424: 5, 162: 144, 377: 9, 699: 2, 215: 59, 568: 1, 237: 55, 57: 1339, 293: 22, 822: 1, 904: 3, 101: 398, 353: 10, 110: 335, 174: 107, 132: 192, 191: 82, 143: 164, 214: 63, 181: 100, 116: 276, 109: 321, 355: 13, 269: 31, 268: 34, 471: 8, 576: 1, 227: 52, 274: 23, 213: 56, 256: 52, 239: 46, 140: 179, 287: 22, 351: 11, 169: 111, 136: 176, 149: 159, 474: 7, 300: 18, 310: 16, 254: 42, 29: 1790, 384: 8, 7: 306, 76: 742, 27: 1367, 90: 520, 108: 353, 87: 562, 127: 231, 28: 1533, 42: 1226, 50: 1245, 19: 5983, 111: 291, 44: 1224, 175: 106, 197: 87, 94: 452, 83: 639, 82: 638, 34: 1457, 212: 58, 195: 91, 95: 451, 194: 88, 52: 1396, 92: 492, 53: 1792, 31: 1623, 167: 112, 98: 410, 59: 1266, 172: 109, 120: 253, 164: 101, 107: 342, 131: 208, 106: 362, 77: 690, 71: 903, 112: 315, 36: 1507, 126: 248, 105: 363, 193: 78, 270: 31, 224: 55, 97: 428, 165: 108, 81: 590, 96: 429, 146: 204, 138: 202, 154: 142, 166: 105, 125: 264, 171: 118, 133: 206, 255: 35, 267: 32, 196: 79, 258: 35, 222: 47, 79: 668, 141: 183, 273: 31, 151: 150, 118: 274, 135: 202, 170: 94, 155: 148, 208: 73, 93: 461, 199: 75, 152: 137, 130: 208, 24: 1370, 148: 177, 104: 362, 144: 149, 18: 1848, 230: 52, 137: 200, 129: 229, 145: 169, 168: 113, 124: 246, 402: 7, 281: 23, 3130: 1, 8: 660, 185: 87, 324: 21, 242: 45, 179: 97, 178: 95, 158: 132, 163: 122, 153: 146, 321: 15, 190: 86, 339: 11, 204: 79, 285: 22, 186: 88, 223: 55, 10: 660, 275: 23, 219: 59, 211: 45, 308: 14, 245: 32, 328: 12, 243: 39, 202: 52, 13: 1259, 9: 541, 189: 76, 303: 19, 203: 59, 198: 70, 229: 46, 226: 49, 209: 57, 173: 95, 188: 68, 225: 56, 232: 56, 183: 107, 283: 25, 365: 15, 496: 2, 322: 10, 216: 64, 492: 5, 330: 12, 278: 31, 483: 2, 400: 7, 297: 24, 524: 2, 251: 46, 329: 19, 340: 20, 513: 3, 399: 7, 439: 4, 770: 2, 271: 20, 296: 21, 368: 9, 295: 20, 157: 136, 156: 145, 276: 34, 201: 77, 207: 63, 250: 32, 217: 57, 192: 95, 337: 14, 176: 98, 374: 12, 200: 61, 233: 47, 3: 247, 6: 255, 159: 132, 282: 23, 461: 8, 390: 4, 177: 100, 554: 3, 260: 30, 261: 24, 235: 34, 342: 13, 184: 86, 220: 41, 221: 53, 206: 62, 315: 8, 4: 322, 218: 55, 982: 1, 252: 33, 375: 14, 280: 31, 234: 52, 294: 20, 205: 64, 407: 7, 249: 27, 286: 23, 231: 41, 327: 16, 454: 2, 5: 289, 257: 39, 210: 61, 259: 46, 358: 10, 397: 12, 312: 27, 236: 38, 241: 41, 428: 3, 240: 49, 292: 23, 427: 6, 455: 2, 386: 6, 244: 45, 735: 2, 436: 6, 277: 29, 248: 33, 369: 13, 304: 25, 262: 31, 488: 4, 460: 3, 433: 5, 641: 2, 416: 6, 266: 29, 279: 21, 333: 9, 316: 12, 429: 3, 479: 4, 346: 10, 247: 41, 493: 1, 228: 43, 343: 10, 331: 15, 833: 1, 1516: 2, 336: 12, 265: 38, 345: 11, 405: 4, 290: 29, 291: 21, 263: 33, 334: 9, 744: 1, 686: 2, 534: 4, 314: 17, 309: 15, 839: 3, 317: 22, 1158: 1, 349: 14, 472: 1, 284: 19, 595: 3, 497: 2, 246: 38, 509: 2, 410: 9, 457: 2, 378: 9, 299: 23, 379: 7, 272: 19, 352: 9, 306: 16, 430: 5, 785: 1, 559: 3, 391: 7, 288: 24, 463: 3, 747: 2, 372: 7, 799: 1, 382: 5, 363: 17, 307: 19, 406: 6, 264: 43, 491: 7, 361: 11, 326: 14, 301: 18, 305: 19, 341: 10, 323: 12, 435: 8, 412: 8, 289: 23, 332: 11, 354: 10, 313: 16, 500: 5, 311: 22, 441: 5, 319: 18, 373: 4, 376: 6, 383: 6, 318: 12, 362: 10, 302: 21, 645: 1, 552: 1, 238: 44, 394: 8, 1237: 1, 417: 2, 501: 3, 348: 5, 338: 13, 530: 2, 473: 4, 396: 11, 356: 10, 740: 1, 547: 2, 574: 2, 409: 7, 350: 7, 556: 2, 426: 2, 444: 4, 380: 5, 781: 1, 642: 1, 432: 7, 364: 9, 388: 11, 443: 5, 450: 8, 395: 6, 423: 6, 551: 1, 504: 2, 875: 2, 611: 4, 421: 6, 543: 1, 647: 3, 451: 3, 659: 1, 507: 3, 520: 6, 1318: 1, 367: 12, 515: 1, 411: 9, 511: 5, 398: 4, 385: 8, 344: 13, 404: 4, 566: 1, 425: 7, 521: 4, 366: 10, 1590: 1, 1234: 1, 812: 1, 389: 4, 401: 6, 459: 5, 684: 2, 489: 4, 325: 9, 476: 1, 469: 2, 620: 4, 625: 4, 486: 2, 415: 6, 1999: 1, 480: 3, 413: 5, 865: 1, 1085: 1, 1483: 1, 4026: 1, 357: 5, 370: 9, 558: 1, 599: 2, 381: 4, 541: 5, 335: 10, 360: 6, 634: 2, 581: 2, 452: 5, 464: 2, 597: 4, 393: 4, 583: 2, 453: 6, 3464: 1, 478: 4, 1330: 1, 456: 3, 544: 2, 359: 5, 484: 3, 387: 9, 528: 2, 628: 1, 445: 6, 446: 5, 438: 6, 3442: 1, 419: 7, 985: 1, 649: 2, 561: 1, 503: 2, 535: 3, 606: 2, 522: 3, 531: 5, 468: 3, 403: 2, 748: 1, 562: 2, 600: 2, 1373: 1, 517: 2, 852: 1, 757: 3, 607: 4, 495: 2, 667: 1, 462: 10, 874: 1, 481: 4, 1035: 1, 951: 1, 585: 3, 644: 3, 952: 1, 371: 8, 677: 1, 1397: 1, 498: 1, 447: 5, 526: 2, 638: 1, 701: 1, 408: 4, 542: 2, 525: 1, 723: 2, 692: 2, 1444: 1, 656: 1, 550: 3, 668: 1, 532: 4, 440: 7, 616: 1, 823: 1, 1183: 1, 753: 1, 939: 1, 674: 1, 911: 1, 632: 1, 672: 1, 713: 2, 1761: 1, 798: 1, 548: 2, 588: 2, 569: 2, 680: 1, 1155: 1, 715: 1, 651: 1, 859: 1, 997: 1, 510: 6, 519: 1, 655: 2, 633: 1, 470: 1, 449: 3, 477: 1, 437: 3, 786: 1, 629: 2, 537: 1, 539: 1, 623: 2, 763: 1, 848: 1, 603: 2, 512: 2, 442: 5, 563: 1, 518: 1, 596: 1, 487: 1, 661: 1, 533: 2, 821: 1, 653: 1, 646: 1, 827: 1, 831: 1, 422: 4, 738: 1, 540: 1, 706: 1, 536: 1, 418: 2, 724: 2, 434: 1, 557: 1, 683: 1, 705: 2, 570: 3, 690: 1, 617: 2, 964: 1, 573: 2, 808: 2, 730: 2, 571: 1, 414: 1, 675: 2, 555: 1, 777: 1, 564: 2, 582: 1, 1210: 1, 797: 3, 689: 1, 1062: 1, 508: 2, 782: 1, 969: 1, 516: 3, 499: 1, 627: 1, 538: 1, 733: 1, 431: 2, 918: 1, 505: 1, 650: 1, 565: 1, 465: 1, 704: 1, 710: 1, 549: 1, 604: 1, 694: 1, 924: 1, 602: 1, 1593: 1, 810: 1, 514: 2, 613: 1, 485: 3, 506: 2, 666: 1, 622: 2, 688: 2, 887: 2, 475: 1, 727: 1, 766: 1, 698: 2, 2082: 1, 553: 1, 639: 3, 2322: 1, 1603: 1, 849: 1, 807: 1, 624: 1, 1078: 1, 590: 1, 1579: 1, 1795: 1, 967: 1, 578: 2, 2223: 1, 905: 1, 722: 1, 610: 1, 1652: 1, 1000: 1, 922: 1, 844: 1, 814: 1, 707: 2, 615: 1, 885: 2, 779: 2, 784: 1, 809: 1, 1389: 1, 876: 1, 546: 1, 1071: 1, 630: 1, 494: 1, 545: 2, 1474: 1, 1190: 1, 926: 1, 567: 1, 572: 1, 618: 1, 579: 1, 882: 1, 587: 1, 2: 1, 915: 1, 1447: 1, 1201: 1, 1162: 1, 1168: 1, 676: 1})\n"
     ]
    },
    {
     "data": {
      "image/png": "[encoded data removed]",
      "text/plain": [
       "<Figure size 640x480 with 1 Axes>"
      ]
     },
     "metadata": {},
     "output_type": "display_data"
    },
    {
     "data": {
      "image/png": "[encoded data removed]",
      "text/plain": [
       "<Figure size 640x480 with 1 Axes>"
      ]
     },
     "metadata": {},
     "output_type": "display_data"
    }
   ],
   "source": [
    "from collections import defaultdict\n",
    "\n",
    "query_encoding_lengths = defaultdict(int)\n",
    "doc_encoding_lengths = defaultdict(int)\n",
    "\n",
    "for key, value in query_encodings.items():\n",
    "    query_encoding_lengths[value['input_ids'].shape[1]] += 1\n",
    "\n",
    "for key, value in docno_encodings.items():\n",
    "    doc_encoding_lengths[value['input_ids'].shape[1]] += 1\n",
    "\n",
    "print(\"Query encoding lengths:\", query_encoding_lengths)\n",
    "print(\"Doc encoding lengths:\", doc_encoding_lengths)\n",
    "\n",
    "import matplotlib.pyplot as plt\n",
    "# Histogram of query encoding lengths\n",
    "plt.bar(query_encoding_lengths.keys(), query_encoding_lengths.values())\n",
    "plt.xlabel('Query Encoding Length')\n",
    "plt.ylabel('Number of Queries')\n",
    "plt.title('Histogram of Query Encoding Lengths')\n",
    "plt.show()\n",
    "\n",
    "# Histogram of doc encoding lengths\n",
    "plt.bar(doc_encoding_lengths.keys(), doc_encoding_lengths.values())\n",
    "plt.xlabel('Doc Encoding Length')\n",
    "plt.ylabel('Number of Docs')\n",
    "plt.title('Histogram of Doc Encoding Lengths')\n",
    "plt.show()"
   ]
  },
  {
   "cell_type": "code",
   "execution_count": 15,
   "metadata": {},
   "outputs": [],
   "source": [
    "bm25_limit = 100\n",
    "bm25_results = bm25.transform(queries_df)\n",
    "bm25_results = bm25_results.groupby('qid').head(bm25_limit)  # get top x results for each query"
   ]
  },
  {
   "cell_type": "code",
   "execution_count": 86,
   "metadata": {},
   "outputs": [
    {
     "name": "stderr",
     "output_type": "stream",
     "text": [
      "huggingface/tokenizers: The current process just got forked, after parallelism has already been used. Disabling parallelism to avoid deadlocks...\n",
      "To disable this warning, you can either:\n",
      "\t- Avoid using `tokenizers` before the fork if possible\n",
      "\t- Explicitly set the environment variable TOKENIZERS_PARALLELISM=(true | false)\n"
     ]
    },
    {
     "name": "stdout",
     "output_type": "stream",
     "text": [
      "Requirement already satisfied: mlx in /Users/philippedebekker/.pyenv/versions/3.8.17/lib/python3.8/site-packages (0.8.1)\n",
      "Note: you may need to restart the kernel to use updated packages.\n"
     ]
    },
    {
     "name": "stderr",
     "output_type": "stream",
     "text": [
      "100%|██████████| 482/482 [00:02<00:00, 165.36it/s]\n"
     ]
    },
    {
     "name": "stdout",
     "output_type": "stream",
     "text": [
      "{'32589#0': array(11.1445, dtype=float32), '67527#0': array(18.8458, dtype=float32), '6117#3': array(51.2958, dtype=float32), '1790#7': array(16.7776, dtype=float32), '6117#23': array(17.4779, dtype=float32), '9918#1': array(23.7652, dtype=float32), '60160#0': array(23.8367, dtype=float32), '18455#0': array(22.421, dtype=float32), '86671#3': array(23.4286, dtype=float32), '17499#3': array(18.2305, dtype=float32), '26157#2': array(51.6494, dtype=float32), '3680#6': array(77.4792, dtype=float32), '75295#10': array(49.8025, dtype=float32), '3381#0': array(26.4473, dtype=float32), '1675#1': array(49.2731, dtype=float32), '1676#22': array(13.6246, dtype=float32), '33426#8': array(13.6246, dtype=float32), '93957#2': array(30.0458, dtype=float32), '18137#12': array(28.9334, dtype=float32), '32480#0': array(9.29504, dtype=float32), '2800#2': array(34.0305, dtype=float32), '9173#0': array(38.9597, dtype=float32), '16516#1': array(5.87637, dtype=float32), '56081#5': array(24.798, dtype=float32), '3845#15': array(50.9693, dtype=float32), '15261#0': array(16.4347, dtype=float32), '9753#1': array(12.3715, dtype=float32), '16309#2': array(21.2272, dtype=float32), '2737#6': array(25.4547, dtype=float32), '28502#0': array(24.0931, dtype=float32), '3945#0': array(25.0667, dtype=float32), '5288#1': array(34.2701, dtype=float32), '14146#6': array(46.0432, dtype=float32), '3401#7': array(33.5078, dtype=float32), '35611#0': array(13.8224, dtype=float32), '83118#8': array(12.4253, dtype=float32), '3194#4': array(13.7897, dtype=float32), '3146#0': array(36.644, dtype=float32), '24245#0': array(7.81105, dtype=float32), '28317#1': array(7.27652, dtype=float32), '2381#1': array(29.0691, dtype=float32), '9509#1': array(23.9271, dtype=float32), '3054#3': array(14.6347, dtype=float32), '10035#9': array(13.2575, dtype=float32), '2839#1': array(20.2779, dtype=float32), '18635#5': array(14.5314, dtype=float32), '103477#0': array(35.3339, dtype=float32), '103478#0': array(27.2406, dtype=float32), '103480#0': array(32.0974, dtype=float32), '82492#0': array(20.6504, dtype=float32), '71564#0': array(17.3303, dtype=float32), '15325#0': array(16.0766, dtype=float32), '5288#6': array(9.90688, dtype=float32), '98686#9': array(20.489, dtype=float32), '1677#0': array(20.421, dtype=float32), '66164#4': array(18.8392, dtype=float32), '19382#2': array(10.6266, dtype=float32), '19310#4': array(8.07364, dtype=float32), '28508#0': array(37.6652, dtype=float32), '8408#1': array(34.0902, dtype=float32), '75004#6': array(12.9559, dtype=float32), '33602#0': array(12.8195, dtype=float32), '1203#8': array(12.8806, dtype=float32), '22112#6': array(10.8252, dtype=float32), '5959#4': array(10.3979, dtype=float32), '80463#3': array(50.7536, dtype=float32), '8404#0': array(15.5642, dtype=float32), '64654#10': array(10.7272, dtype=float32), '71057#0': array(18.1128, dtype=float32), '8319#0': array(27.7486, dtype=float32), '33690#1': array(17.4767, dtype=float32), '24439#0': array(11.5149, dtype=float32), '16#3': array(39.5429, dtype=float32), '1169#26': array(17.0666, dtype=float32), '2109#58': array(28.1518, dtype=float32), '3507#1': array(47.7433, dtype=float32), '11457#12': array(16.472, dtype=float32), '15656#0': array(24.3476, dtype=float32), '56748#13': array(10.1978, dtype=float32), '28501#8': array(17.3308, dtype=float32), '6095#4': array(23.9081, dtype=float32), '5288#10': array(32.8346, dtype=float32), '64654#0': array(10.4098, dtype=float32), '2737#10': array(22.6962, dtype=float32), '55792#0': array(23.269, dtype=float32), '72202#7': array(36.5594, dtype=float32), '2161#11': array(18.2444, dtype=float32), '82492#2': array(25.8573, dtype=float32), '32480#3': array(34.0682, dtype=float32), '17159#9': array(11.7531, dtype=float32), '84779#0': array(26.6629, dtype=float32), '87006#1': array(19.147, dtype=float32), '83268#8': array(16.8671, dtype=float32), '24245#1': array(35.8397, dtype=float32), '15084#0': array(8.50365, dtype=float32), '101453#1': array(30.472, dtype=float32), '69559#0': array(20.6146, dtype=float32), '18693#0': array(29.5541, dtype=float32), '39692#0': array(39.6947, dtype=float32), '78993#6': array(21.3942, dtype=float32)}\n"
     ]
    }
   ],
   "source": [
    "# For each docno encoding, calculate the similarity to each query encoding\n",
    "# Store the results in a dictionary with the following structure: {qid: {docno: similarity}}\n",
    "# The similarity can be calculated using the dot product of the query and docno encodings.\n",
    "%pip install mlx\n",
    "import mlx.core as mx\n",
    "import mlx.nn as nn\n",
    "\n",
    "rankings_query_doc = {}\n",
    "\n",
    "for idx, (qid, query_encoding) in enumerate(tqdm(query_encodings.items())):\n",
    "    rankings_query_doc[qid] = {}\n",
    "    mx_query_encoding = mx.array(query_encoding['input_ids'])\n",
    "\n",
    "    # Go through bm25 results for this query\n",
    "    for idx, row in bm25_results[bm25_results['qid'] == qid].iterrows():\n",
    "        docno = row['docno']\n",
    "        doc_encoding = docno_encodings[docno]\n",
    "        similarity = nn.losses.cosine_similarity_loss(mx_query_encoding, mx.array(doc_encoding['input_ids']))\n",
    "        rankings_query_doc[qid][docno] = similarity[0] * 100.0\n",
    "\n",
    "    # Go through all documents\n",
    "    # for docno, doc_encoding in docno_encodings.items():\n",
    "    #     similarity = nn.losses.cosine_similarity_loss(mx.array(query_encoding['input_ids']), mx.array(doc_encoding['input_ids']))\n",
    "    #     rankings_query_doc[qid][docno] = similarity\n",
    "\n",
    "# For the first query, print the docno similarities\n",
    "print(rankings_query_doc[queries_df['qid'].iloc[0]])\n"
   ]
  },
  {
   "cell_type": "code",
   "execution_count": 90,
   "metadata": {},
   "outputs": [
    {
     "name": "stderr",
     "output_type": "stream",
     "text": [
      "100%|██████████| 482/482 [00:39<00:00, 12.17it/s]"
     ]
    },
    {
     "name": "stdout",
     "output_type": "stream",
     "text": [
      "['16516#1', '28317#1', '24245#0', '19310#4', '15084#0', '32480#0', '5288#6', '56748#13', '5959#4', '64654#0', '19382#2', '64654#10', '22112#6', '32589#0', '24439#0', '17159#9', '9753#1', '83118#8', '33602#0', '1203#8', '75004#6', '10035#9', '1676#22', '33426#8', '3194#4', '35611#0', '18635#5', '3054#3', '8404#0', '15325#0', '15261#0', '11457#12', '1790#7', '83268#8', '1169#26', '71564#0', '28501#8', '33690#1', '6117#23', '71057#0', '17499#3', '2161#11', '66164#4', '67527#0', '87006#1', '2839#1', '1677#0', '98686#9', '69559#0', '82492#0', '16309#2', '78993#6', '18455#0', '2737#10', '55792#0', '86671#3', '9918#1', '60160#0', '6095#4', '9509#1', '28502#0', '15656#0', '56081#5', '3945#0', '2737#6', '82492#2', '3381#0', '84779#0', '103478#0', '8319#0', '2109#58', '18137#12', '2381#1', '18693#0', '93957#2', '101453#1', '103480#0', '5288#10', '3401#7', '2800#2', '32480#3', '8408#1', '5288#1', '103477#0', '24245#1', '72202#7', '3146#0', '28508#0', '9173#0', '16#3', '39692#0', '14146#6', '3507#1', '1675#1', '75295#10', '80463#3', '3845#15', '6117#3', '26157#2', '3680#6']\n"
     ]
    },
    {
     "name": "stderr",
     "output_type": "stream",
     "text": [
      "\n"
     ]
    }
   ],
   "source": [
    "# For each query, sort the docno similarities and get the top x docnos\n",
    "top_x = 100\n",
    "top_x_docnos = {}\n",
    "\n",
    "for idx, (qid, docno_similarities) in enumerate(tqdm(rankings_query_doc.items())):\n",
    "    top_x_docnos[qid] = sorted(docno_similarities, key=docno_similarities.get, reverse=True)[:top_x]\n",
    "\n",
    "# For the first query, print the top x docnos\n",
    "print(top_x_docnos[queries_df['qid'].iloc[0]])"
   ]
  },
  {
   "cell_type": "code",
   "execution_count": 91,
   "metadata": {},
   "outputs": [
    {
     "name": "stdout",
     "output_type": "stream",
     "text": [
      "        qid     docno      score  rank\n",
      "0         6   16516#1   5.876369     0\n",
      "1         6   28317#1   7.276518     1\n",
      "2         6   24245#0   7.811049     2\n",
      "3         6   19310#4   8.073642     3\n",
      "4         6   15084#0   8.503650     4\n",
      "...     ...       ...        ...   ...\n",
      "48173  2597  34555#39  61.671658    95\n",
      "48174  2597   16778#3  62.030506    96\n",
      "48175  2597   14107#1  66.248665    97\n",
      "48176  2597   2944#47  75.475204    98\n",
      "48177  2597   91404#1  77.806778    99\n",
      "\n",
      "[48178 rows x 4 columns]\n"
     ]
    }
   ],
   "source": [
    "# Create pandas dataframe with the top x docnos for each query\n",
    "# The dataframe should have the following columns: qid, docno, score, rank\n",
    "import pandas as pd\n",
    "\n",
    "data = []\n",
    "for qid, docnos in top_x_docnos.items():\n",
    "    for rank, docno in enumerate(docnos):\n",
    "        score = rankings_query_doc[qid][docno].item()\n",
    "        data.append({'qid': qid, 'docno': docno, 'score': score, 'rank': rank})\n",
    "\n",
    "rankings_df = pd.DataFrame(data)\n",
    "print(rankings_df)\n"
   ]
  },
  {
   "cell_type": "code",
   "execution_count": 96,
   "metadata": {},
   "outputs": [
    {
     "name": "stdout",
     "output_type": "stream",
     "text": [
      "                                                name       map      ndcg\n",
      "0          qid     docno      score  rank\\n0     ...  0.018677  0.131025\n"
     ]
    }
   ],
   "source": [
    "# Evaluation\n",
    "eval_metrics = ['map', 'ndcg']\n",
    "eval_results = pt.Experiment(\n",
    "    [rankings_df],\n",
    "    queries_df,\n",
    "    qrels_df,\n",
    "    eval_metrics=eval_metrics,\n",
    "    # perquery=True\n",
    ")\n",
    "\n",
    "print(eval_results)"
   ]
  },
  {
   "cell_type": "code",
   "execution_count": 75,
   "metadata": {},
   "outputs": [
    {
     "name": "stdout",
     "output_type": "stream",
     "text": [
      "                                                name       map      ndcg\n",
      "0           qid  docid      docno  rank      scor...  0.226438  0.333694\n"
     ]
    }
   ],
   "source": [
    "# Evaluation\n",
    "eval_metrics = ['map', 'ndcg']\n",
    "eval_results = pt.Experiment(\n",
    "    [bm25_results],\n",
    "    queries_df,\n",
    "    qrels_df,\n",
    "    eval_metrics=eval_metrics,\n",
    "    # perquery=True\n",
    ")\n",
    "\n",
    "print(eval_results)"
   ]
  }
 ],
 "metadata": {
  "kernelspec": {
   "display_name": "IR-MIRACL",
   "language": "python",
   "name": "python3"
  },
  "language_info": {
   "codemirror_mode": {
    "name": "ipython",
    "version": 3
   },
   "file_extension": ".py",
   "mimetype": "text/x-python",
   "name": "python",
   "nbconvert_exporter": "python",
   "pygments_lexer": "ipython3",
   "version": "3.8.17"
  }
 },
 "nbformat": 4,
 "nbformat_minor": 2
}
